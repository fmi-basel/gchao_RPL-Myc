{
 "cells": [
  {
   "cell_type": "code",
   "execution_count": 1,
   "metadata": {},
   "outputs": [],
   "source": [
    "from aicsimageio import AICSImage\n",
    "import os\n",
    "\n",
    "import pandas as pd\n",
    "import numpy as np\n",
    "\n",
    "from napari import Viewer\n",
    "\n",
    "from tifffile import imread"
   ]
  },
  {
   "cell_type": "code",
   "execution_count": 2,
   "metadata": {},
   "outputs": [],
   "source": [
    "file = \"/home/tibuch/Data/hochtobi/acq_1.nd\"\n",
    "nuc_cyto_seg_dir = \"/home/tibuch/Gitrepos/gchao_RPL-Myc/runs/example/01_nuclei-cyto-segmentation/\"\n",
    "spot_dir = \"/home/tibuch/Gitrepos/gchao_RPL-Myc/runs/example/02_spot-detection\""
   ]
  },
  {
   "cell_type": "code",
   "execution_count": 3,
   "metadata": {},
   "outputs": [],
   "source": [
    "name, ext = os.path.splitext(os.path.basename(file))"
   ]
  },
  {
   "cell_type": "code",
   "execution_count": 4,
   "metadata": {},
   "outputs": [],
   "source": [
    "img = AICSImage(file)"
   ]
  },
  {
   "cell_type": "code",
   "execution_count": 5,
   "metadata": {},
   "outputs": [],
   "source": [
    "raw_01 = img.data[0, 1]\n",
    "raw_02 = img.data[0, 2]"
   ]
  },
  {
   "cell_type": "code",
   "execution_count": 6,
   "metadata": {},
   "outputs": [],
   "source": [
    "nuc_seg = imread(os.path.join(nuc_cyto_seg_dir, name + '_NUC-SEG-3D.tif'))\n",
    "cyto_seg = imread(os.path.join(nuc_cyto_seg_dir, name + '_CYTO-SEG-2D.tif'))"
   ]
  },
  {
   "cell_type": "code",
   "execution_count": 20,
   "metadata": {},
   "outputs": [],
   "source": [
    "spots_01 = pd.read_csv(os.path.join(spot_dir, name + \"_SPOTS_C01.csv\"))\n",
    "spots_02 = pd.read_csv(os.path.join(spot_dir, name + \"_SPOTS_C02.csv\"))"
   ]
  },
  {
   "cell_type": "code",
   "execution_count": 8,
   "metadata": {},
   "outputs": [],
   "source": [
    "sx = img.ome_metadata.dict()['images'][0]['pixels']['physical_size_x']\n",
    "sy = img.ome_metadata.dict()['images'][0]['pixels']['physical_size_y']\n",
    "sz = img.ome_metadata.dict()['images'][0]['pixels']['physical_size_z']\n",
    "spacing = tuple([sz, sy, sx])"
   ]
  },
  {
   "cell_type": "code",
   "execution_count": 9,
   "metadata": {},
   "outputs": [],
   "source": [
    "spacing = tuple([0.2, 0.103, 0.103])"
   ]
  },
  {
   "cell_type": "code",
   "execution_count": 26,
   "metadata": {},
   "outputs": [],
   "source": [
    "viewer = Viewer()"
   ]
  },
  {
   "cell_type": "code",
   "execution_count": 27,
   "metadata": {},
   "outputs": [
    {
     "data": {
      "text/plain": [
       "<Labels layer 'nuclei' at 0x7f421c664550>"
      ]
     },
     "execution_count": 27,
     "metadata": {},
     "output_type": "execute_result"
    }
   ],
   "source": [
    "viewer.add_image(raw_01, scale=spacing, name=\"C02\", contrast_limits=np.quantile(raw_01, [0.6, 0.999]), colormap=\"magenta\")\n",
    "viewer.add_image(raw_02, scale=spacing, name=\"C03\", contrast_limits=np.quantile(raw_02, [0.6, 0.999]), colormap=\"green\", blending='additive')\n",
    "viewer.add_labels(cyto_seg, scale=spacing[1:], name=\"cyto\")\n",
    "viewer.layers[\"cyto\"].contour = 1\n",
    "viewer.add_labels(nuc_seg, scale=spacing, name=\"nuclei\", opacity=0.5)"
   ]
  },
  {
   "cell_type": "code",
   "execution_count": 28,
   "metadata": {},
   "outputs": [
    {
     "data": {
      "text/plain": [
       "<Points layer 'nuc-spots-01' at 0x7f4230276d90>"
      ]
     },
     "execution_count": 28,
     "metadata": {},
     "output_type": "execute_result"
    }
   ],
   "source": [
    "viewer.add_points(spots_01.query(\"in_nuclei & symmetric\")[[\"centroid_z\", \"centroid_y\", \"centroid_x\"]].to_numpy(), size=1, edge_color='magenta',\n",
    "                   face_color='#00000000', name=\"nuc-spots-01\", symbol='o')"
   ]
  },
  {
   "cell_type": "code",
   "execution_count": 29,
   "metadata": {},
   "outputs": [
    {
     "data": {
      "text/plain": [
       "<Points layer 'cyto-spots-01' at 0x7f42512b9850>"
      ]
     },
     "execution_count": 29,
     "metadata": {},
     "output_type": "execute_result"
    }
   ],
   "source": [
    "viewer.add_points(spots_01.query(\"in_cyto & symmetric\")[[\"centroid_z\", \"centroid_y\", \"centroid_x\"]].to_numpy(), size=1, edge_color='magenta',\n",
    "                   face_color='#00000000', name=\"cyto-spots-01\", symbol='square')"
   ]
  },
  {
   "cell_type": "code",
   "execution_count": 30,
   "metadata": {},
   "outputs": [
    {
     "data": {
      "text/plain": [
       "<Points layer 'nuc-spots-02' at 0x7f4251734880>"
      ]
     },
     "execution_count": 30,
     "metadata": {},
     "output_type": "execute_result"
    }
   ],
   "source": [
    "viewer.add_points(spots_02.query(\"in_nuclei & symmetric\")[[\"centroid_z\", \"centroid_y\", \"centroid_x\"]].to_numpy(), size=1, edge_color='green',\n",
    "                   face_color='#00000000', name=\"nuc-spots-02\", symbol='o')"
   ]
  },
  {
   "cell_type": "code",
   "execution_count": 31,
   "metadata": {},
   "outputs": [
    {
     "data": {
      "text/plain": [
       "<Points layer 'cyto-spots-02' at 0x7f42515c83a0>"
      ]
     },
     "execution_count": 31,
     "metadata": {},
     "output_type": "execute_result"
    }
   ],
   "source": [
    "viewer.add_points(spots_02.query(\"in_cyto & symmetric\")[[\"centroid_z\", \"centroid_y\", \"centroid_x\"]].to_numpy(), size=1, edge_color='green',\n",
    "                   face_color='#00000000', name=\"cyto-spots-02\", symbol='square')"
   ]
  },
  {
   "cell_type": "code",
   "execution_count": null,
   "metadata": {},
   "outputs": [],
   "source": [
    "#screenshot = viewer.screenshot(scale=5, path='./screenshot_slice.png')"
   ]
  },
  {
   "cell_type": "code",
   "execution_count": null,
   "metadata": {},
   "outputs": [],
   "source": [
    "viewer.add_image(np.max(raw_01, 0), scale=spacing[1:], name=\"C01\", contrast_limits=np.quantile(np.max(raw_01, 0), [0.6, 0.999]), colormap=\"magenta\")\n",
    "viewer.add_image(np.max(raw_02, 0), scale=spacing[1:], name=\"C02\", contrast_limits=np.quantile(np.max(raw_02, 0), [0.6, 0.999]), colormap=\"green\", blending='additive')\n",
    "viewer.add_labels(cyto_seg, scale=spacing[1:], name=\"cyto\")\n",
    "viewer.layers[\"cyto\"].contour = 1\n",
    "viewer.add_labels(np.max(nuc_seg, 0), scale=spacing[1:], name=\"nuclei\", opacity=0.5)"
   ]
  },
  {
   "cell_type": "code",
   "execution_count": null,
   "metadata": {},
   "outputs": [],
   "source": [
    "viewer.add_points(spots_01.query(\"in_nuclei & symmetric\")[[\"centroid_y\", \"centroid_x\"]].to_numpy(), size=1, edge_color='magenta',\n",
    "                   face_color='#00000000', name=\"nuc-spots-01\", symbol='o')"
   ]
  },
  {
   "cell_type": "code",
   "execution_count": null,
   "metadata": {},
   "outputs": [],
   "source": [
    "viewer.add_points(spots_01.query(\"in_cyto & symmetric\")[[\"centroid_y\", \"centroid_x\"]].to_numpy(), size=1, edge_color='magenta',\n",
    "                   face_color='#00000000', name=\"cyto-spots-01\", symbol='square')"
   ]
  },
  {
   "cell_type": "code",
   "execution_count": null,
   "metadata": {},
   "outputs": [],
   "source": [
    "viewer.add_points(spots_02.query(\"in_nuclei & symmetric\")[[\"centroid_y\", \"centroid_x\"]].to_numpy(), size=1, edge_color='green',\n",
    "                   face_color='#00000000', name=\"nuc-spots-02\", symbol='o')"
   ]
  },
  {
   "cell_type": "code",
   "execution_count": null,
   "metadata": {},
   "outputs": [],
   "source": [
    "viewer.add_points(spots_02.query(\"in_cyto & symmetric\")[[\"centroid_y\", \"centroid_x\"]].to_numpy(), size=1, edge_color='green',\n",
    "                   face_color='#00000000', name=\"cyto-spots-02\", symbol='square')"
   ]
  },
  {
   "cell_type": "code",
   "execution_count": null,
   "metadata": {},
   "outputs": [],
   "source": [
    "#screenshot = viewer.screenshot(scale=5, path='./screenshot_projection.png')"
   ]
  },
  {
   "cell_type": "code",
   "execution_count": null,
   "metadata": {},
   "outputs": [],
   "source": []
  }
 ],
 "metadata": {
  "kernelspec": {
   "display_name": "Python 3",
   "language": "python",
   "name": "python3"
  },
  "language_info": {
   "codemirror_mode": {
    "name": "ipython",
    "version": 3
   },
   "file_extension": ".py",
   "mimetype": "text/x-python",
   "name": "python",
   "nbconvert_exporter": "python",
   "pygments_lexer": "ipython3",
   "version": "3.9.16"
  },
  "orig_nbformat": 4
 },
 "nbformat": 4,
 "nbformat_minor": 2
}
