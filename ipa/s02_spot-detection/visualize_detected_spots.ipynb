{
 "cells": [
  {
   "cell_type": "code",
   "execution_count": 1,
   "metadata": {},
   "outputs": [],
   "source": [
    "from aicsimageio import AICSImage\n",
    "import os\n",
    "\n",
    "import pandas as pd\n",
    "import numpy as np\n",
    "\n",
    "from napari import Viewer\n",
    "\n",
    "from tifffile import imread"
   ]
  },
  {
   "cell_type": "code",
   "execution_count": 2,
   "metadata": {},
   "outputs": [],
   "source": [
    "file = \"/home/tibuch/Data/gacho_treat-experiments-input/pPD12-C-1h/MS2-800_Ren-500_DAPI-50_5.nd\"\n",
    "nuc_cyto_seg_dir = \"/home/tibuch/Data/gchao_treat-experiments-outputs/pPD12-C-1h/02_nuclei-cyto-segmentation/\"\n",
    "spot_dir = \"/home/tibuch/Data/gchao_treat-experiments-outputs/pPD12-C-1h/03_spot-detection/\""
   ]
  },
  {
   "cell_type": "code",
   "execution_count": 3,
   "metadata": {},
   "outputs": [],
   "source": [
    "name, ext = os.path.splitext(os.path.basename(file))"
   ]
  },
  {
   "cell_type": "code",
   "execution_count": 4,
   "metadata": {},
   "outputs": [],
   "source": [
    "img = AICSImage(file)"
   ]
  },
  {
   "cell_type": "code",
   "execution_count": 5,
   "metadata": {},
   "outputs": [
    {
     "name": "stderr",
     "output_type": "stream",
     "text": [
      "/home/tibuch/Gitrepos/gchao_treat-experiments/infrastructure/apps/micromamba/envs/treat-exp/lib/python3.9/site-packages/ome_types/_convenience.py:106: FutureWarning: The default XML parser will be changing from 'xmlschema' to 'lxml' in version 0.4.0.  To silence this warning, please provide the `parser` argument, specifying either 'lxml' (to opt into the new behavior), or'xmlschema' (to retain the old behavior).\n",
      "  d = to_dict(os.fspath(xml), parser=parser, validate=validate)\n",
      "/home/tibuch/Gitrepos/gchao_treat-experiments/infrastructure/apps/micromamba/envs/treat-exp/lib/python3.9/site-packages/ome_types/_convenience.py:106: FutureWarning: The default XML parser will be changing from 'xmlschema' to 'lxml' in version 0.4.0.  To silence this warning, please provide the `parser` argument, specifying either 'lxml' (to opt into the new behavior), or'xmlschema' (to retain the old behavior).\n",
      "  d = to_dict(os.fspath(xml), parser=parser, validate=validate)\n"
     ]
    }
   ],
   "source": [
    "raw_01 = img.data[0, 0]\n",
    "raw_02 = img.data[0, 1]"
   ]
  },
  {
   "cell_type": "code",
   "execution_count": 6,
   "metadata": {},
   "outputs": [],
   "source": [
    "nuc_seg = imread(os.path.join(nuc_cyto_seg_dir, name + '_NUC-SEG-3D.tif'))\n",
    "cyto_seg = imread(os.path.join(nuc_cyto_seg_dir, name + '_CYTO-SEG-2D.tif'))"
   ]
  },
  {
   "cell_type": "code",
   "execution_count": 7,
   "metadata": {},
   "outputs": [],
   "source": [
    "spots_01 = pd.read_csv(os.path.join(spot_dir, name + \"_SPOTS_C01.csv\"))\n",
    "spots_02 = pd.read_csv(os.path.join(spot_dir, name + \"_SPOTS_C02.csv\"))"
   ]
  },
  {
   "cell_type": "code",
   "execution_count": 8,
   "metadata": {},
   "outputs": [
    {
     "name": "stderr",
     "output_type": "stream",
     "text": [
      "/home/tibuch/Gitrepos/gchao_treat-experiments/infrastructure/apps/micromamba/envs/treat-exp/lib/python3.9/site-packages/ome_types/_convenience.py:106: FutureWarning: The default XML parser will be changing from 'xmlschema' to 'lxml' in version 0.4.0.  To silence this warning, please provide the `parser` argument, specifying either 'lxml' (to opt into the new behavior), or'xmlschema' (to retain the old behavior).\n",
      "  d = to_dict(os.fspath(xml), parser=parser, validate=validate)\n"
     ]
    }
   ],
   "source": [
    "sx = img.ome_metadata.dict()['images'][0]['pixels']['physical_size_x']\n",
    "sy = img.ome_metadata.dict()['images'][0]['pixels']['physical_size_y']\n",
    "sz = img.ome_metadata.dict()['images'][0]['pixels']['physical_size_z']\n",
    "spacing = tuple([sz, sy, sx])"
   ]
  },
  {
   "cell_type": "code",
   "execution_count": 9,
   "metadata": {},
   "outputs": [],
   "source": [
    "viewer = Viewer()"
   ]
  },
  {
   "cell_type": "code",
   "execution_count": 10,
   "metadata": {},
   "outputs": [
    {
     "data": {
      "text/plain": [
       "<Labels layer 'nuclei' at 0x7f5607890370>"
      ]
     },
     "execution_count": 10,
     "metadata": {},
     "output_type": "execute_result"
    }
   ],
   "source": [
    "viewer.add_image(raw_01, scale=spacing, name=\"C01\", contrast_limits=np.quantile(raw_01, [0.6, 0.999]), colormap=\"magenta\")\n",
    "viewer.add_image(raw_02, scale=spacing, name=\"C02\", contrast_limits=np.quantile(raw_02, [0.6, 0.999]), colormap=\"green\", blending='additive')\n",
    "viewer.add_labels(cyto_seg, scale=spacing[1:], name=\"cyto\")\n",
    "viewer.layers[\"cyto\"].contour = 1\n",
    "viewer.add_labels(nuc_seg, scale=spacing, name=\"nuclei\", opacity=0.5)"
   ]
  },
  {
   "cell_type": "code",
   "execution_count": 11,
   "metadata": {},
   "outputs": [
    {
     "data": {
      "text/plain": [
       "<Points layer 'nuc-spots-01' at 0x7f56052964f0>"
      ]
     },
     "execution_count": 11,
     "metadata": {},
     "output_type": "execute_result"
    }
   ],
   "source": [
    "viewer.add_points(spots_01.query(\"in_nuclei & symmetric\")[[\"centroid_z\", \"centroid_y\", \"centroid_x\"]].to_numpy(), size=1, edge_color='magenta',\n",
    "                   face_color='#00000000', name=\"nuc-spots-01\", symbol='o')"
   ]
  },
  {
   "cell_type": "code",
   "execution_count": 12,
   "metadata": {},
   "outputs": [
    {
     "data": {
      "text/plain": [
       "<Points layer 'cyto-spots-01' at 0x7f56ccd9e340>"
      ]
     },
     "execution_count": 12,
     "metadata": {},
     "output_type": "execute_result"
    }
   ],
   "source": [
    "viewer.add_points(spots_01.query(\"in_cyto & symmetric\")[[\"centroid_z\", \"centroid_y\", \"centroid_x\"]].to_numpy(), size=1, edge_color='magenta',\n",
    "                   face_color='#00000000', name=\"cyto-spots-01\", symbol='square')"
   ]
  },
  {
   "cell_type": "code",
   "execution_count": 13,
   "metadata": {},
   "outputs": [
    {
     "data": {
      "text/plain": [
       "<Points layer 'nuc-spots-02' at 0x7f561445b100>"
      ]
     },
     "execution_count": 13,
     "metadata": {},
     "output_type": "execute_result"
    }
   ],
   "source": [
    "viewer.add_points(spots_02.query(\"in_nuclei & symmetric\")[[\"centroid_z\", \"centroid_y\", \"centroid_x\"]].to_numpy(), size=1, edge_color='green',\n",
    "                   face_color='#00000000', name=\"nuc-spots-02\", symbol='o')"
   ]
  },
  {
   "cell_type": "code",
   "execution_count": 14,
   "metadata": {},
   "outputs": [
    {
     "data": {
      "text/plain": [
       "<Points layer 'cyto-spots-02' at 0x7f5607fe6520>"
      ]
     },
     "execution_count": 14,
     "metadata": {},
     "output_type": "execute_result"
    }
   ],
   "source": [
    "viewer.add_points(spots_02.query(\"in_cyto & symmetric\")[[\"centroid_z\", \"centroid_y\", \"centroid_x\"]].to_numpy(), size=1, edge_color='green',\n",
    "                   face_color='#00000000', name=\"cyto-spots-02\", symbol='square')"
   ]
  },
  {
   "cell_type": "code",
   "execution_count": 302,
   "metadata": {},
   "outputs": [],
   "source": [
    "#screenshot = viewer.screenshot(scale=5, path='./screenshot_slice.png')"
   ]
  },
  {
   "cell_type": "code",
   "execution_count": 309,
   "metadata": {},
   "outputs": [
    {
     "data": {
      "text/plain": [
       "<Labels layer 'nuclei' at 0x7fd2deef25b0>"
      ]
     },
     "execution_count": 309,
     "metadata": {},
     "output_type": "execute_result"
    }
   ],
   "source": [
    "viewer.add_image(np.max(raw_01, 0), scale=spacing[1:], name=\"C01\", contrast_limits=np.quantile(np.max(raw_01, 0), [0.6, 0.999]), colormap=\"magenta\")\n",
    "viewer.add_image(np.max(raw_02, 0), scale=spacing[1:], name=\"C02\", contrast_limits=np.quantile(np.max(raw_02, 0), [0.6, 0.999]), colormap=\"green\", blending='additive')\n",
    "viewer.add_labels(cyto_seg, scale=spacing[1:], name=\"cyto\")\n",
    "viewer.layers[\"cyto\"].contour = 1\n",
    "viewer.add_labels(np.max(nuc_seg, 0), scale=spacing[1:], name=\"nuclei\", opacity=0.5)"
   ]
  },
  {
   "cell_type": "code",
   "execution_count": 310,
   "metadata": {},
   "outputs": [
    {
     "data": {
      "text/plain": [
       "<Points layer 'nuc-spots-01' at 0x7fd2ed01f5e0>"
      ]
     },
     "execution_count": 310,
     "metadata": {},
     "output_type": "execute_result"
    }
   ],
   "source": [
    "viewer.add_points(spots_01.query(\"in_nuclei & symmetric\")[[\"centroid_y\", \"centroid_x\"]].to_numpy(), size=1, edge_color='magenta',\n",
    "                   face_color='#00000000', name=\"nuc-spots-01\", symbol='o')"
   ]
  },
  {
   "cell_type": "code",
   "execution_count": 311,
   "metadata": {},
   "outputs": [
    {
     "data": {
      "text/plain": [
       "<Points layer 'cyto-spots-01' at 0x7fd2e597c2b0>"
      ]
     },
     "execution_count": 311,
     "metadata": {},
     "output_type": "execute_result"
    }
   ],
   "source": [
    "viewer.add_points(spots_01.query(\"in_cyto & symmetric\")[[\"centroid_y\", \"centroid_x\"]].to_numpy(), size=1, edge_color='magenta',\n",
    "                   face_color='#00000000', name=\"cyto-spots-01\", symbol='square')"
   ]
  },
  {
   "cell_type": "code",
   "execution_count": 312,
   "metadata": {},
   "outputs": [
    {
     "data": {
      "text/plain": [
       "<Points layer 'nuc-spots-02' at 0x7fd2dee320d0>"
      ]
     },
     "execution_count": 312,
     "metadata": {},
     "output_type": "execute_result"
    }
   ],
   "source": [
    "viewer.add_points(spots_02.query(\"in_nuclei & symmetric\")[[\"centroid_y\", \"centroid_x\"]].to_numpy(), size=1, edge_color='green',\n",
    "                   face_color='#00000000', name=\"nuc-spots-02\", symbol='o')"
   ]
  },
  {
   "cell_type": "code",
   "execution_count": 313,
   "metadata": {},
   "outputs": [
    {
     "data": {
      "text/plain": [
       "<Points layer 'cyto-spots-02' at 0x7fd36b535c40>"
      ]
     },
     "execution_count": 313,
     "metadata": {},
     "output_type": "execute_result"
    }
   ],
   "source": [
    "viewer.add_points(spots_02.query(\"in_cyto & symmetric\")[[\"centroid_y\", \"centroid_x\"]].to_numpy(), size=1, edge_color='green',\n",
    "                   face_color='#00000000', name=\"cyto-spots-02\", symbol='square')"
   ]
  },
  {
   "cell_type": "code",
   "execution_count": 314,
   "metadata": {},
   "outputs": [],
   "source": [
    "#screenshot = viewer.screenshot(scale=5, path='./screenshot_projection.png')"
   ]
  },
  {
   "cell_type": "code",
   "execution_count": null,
   "metadata": {},
   "outputs": [],
   "source": []
  }
 ],
 "metadata": {
  "kernelspec": {
   "display_name": "Python 3",
   "language": "python",
   "name": "python3"
  },
  "language_info": {
   "codemirror_mode": {
    "name": "ipython",
    "version": 3
   },
   "file_extension": ".py",
   "mimetype": "text/x-python",
   "name": "python",
   "nbconvert_exporter": "python",
   "pygments_lexer": "ipython3",
   "version": "3.9.16"
  },
  "orig_nbformat": 4
 },
 "nbformat": 4,
 "nbformat_minor": 2
}
